{
 "cells": [
  {
   "cell_type": "code",
   "execution_count": 22,
   "metadata": {},
   "outputs": [],
   "source": [
    "import pandas as pd\n",
    "import os\n",
    "import re\n",
    "json_folder = \"../data/preprocessed\"\n"
   ]
  },
  {
   "cell_type": "code",
   "execution_count": 2,
   "metadata": {},
   "outputs": [],
   "source": [
    "json_folder = \"../data/preprocessed\""
   ]
  },
  {
   "cell_type": "code",
   "execution_count": 3,
   "metadata": {},
   "outputs": [],
   "source": [
    "json_files = [f for f in os.listdir(json_folder) if f.endswith(\".json\")]"
   ]
  },
  {
   "cell_type": "code",
   "execution_count": 4,
   "metadata": {},
   "outputs": [
    {
     "name": "stdout",
     "output_type": "stream",
     "text": [
      "     id         sender                 timestamp  \\\n",
      "0  4059 -1001175527648 2025-01-13 19:35:35+00:00   \n",
      "1  4058 -1001175527648 2025-01-11 19:36:42+00:00   \n",
      "2  4057 -1001175527648 2025-01-11 15:20:03+00:00   \n",
      "3  4056 -1001175527648 2025-01-11 15:20:03+00:00   \n",
      "4  4054 -1001175527648 2025-01-04 16:56:49+00:00   \n",
      "\n",
      "                                                text  media  \\\n",
      "0                                                       NaN   \n",
      "1                                                       NaN   \n",
      "2  〰️〰️〰️〰️〰️〰️〰️\\nUnder Armur\\nMade in Vietnam \\...    NaN   \n",
      "3                                                       NaN   \n",
      "4                                                       NaN   \n",
      "\n",
      "                                        cleaned_text      channel  \n",
      "0                                                NaN  Fashiontera  \n",
      "1                                                NaN  Fashiontera  \n",
      "2  Under Armur Made in Vietnam Size 414243 Price ...  Fashiontera  \n",
      "3                                                NaN  Fashiontera  \n",
      "4                                                NaN  Fashiontera  \n"
     ]
    }
   ],
   "source": [
    "# Initialize an empty list to store DataFrames\n",
    "dataframes = []\n",
    "\n",
    "# Loop through each JSON file, read it, and append it to the list\n",
    "for file in json_files:\n",
    "    file_path = os.path.join(json_folder, file)\n",
    "    # Read the JSON file into a DataFrame\n",
    "    df = pd.read_json(file_path, orient='records', encoding='utf-8')\n",
    "    # Add a column to identify the source channel\n",
    "    df['channel'] = os.path.splitext(file)[0]  # File name without extension\n",
    "    # Append the DataFrame to the list\n",
    "    dataframes.append(df)\n",
    "\n",
    "# Merge all DataFrames into a single DataFrame\n",
    "merged_df = pd.concat(dataframes, ignore_index=True)\n",
    "\n",
    "# Display the merged DataFrame\n",
    "print(merged_df.head())"
   ]
  },
  {
   "cell_type": "code",
   "execution_count": 5,
   "metadata": {},
   "outputs": [],
   "source": [
    "filtered_df = merged_df[[\"cleaned_text\"]]"
   ]
  },
  {
   "cell_type": "code",
   "execution_count": 6,
   "metadata": {},
   "outputs": [
    {
     "data": {
      "text/html": [
       "<div>\n",
       "<style scoped>\n",
       "    .dataframe tbody tr th:only-of-type {\n",
       "        vertical-align: middle;\n",
       "    }\n",
       "\n",
       "    .dataframe tbody tr th {\n",
       "        vertical-align: top;\n",
       "    }\n",
       "\n",
       "    .dataframe thead th {\n",
       "        text-align: right;\n",
       "    }\n",
       "</style>\n",
       "<table border=\"1\" class=\"dataframe\">\n",
       "  <thead>\n",
       "    <tr style=\"text-align: right;\">\n",
       "      <th></th>\n",
       "      <th>cleaned_text</th>\n",
       "    </tr>\n",
       "  </thead>\n",
       "  <tbody>\n",
       "    <tr>\n",
       "      <th>0</th>\n",
       "      <td>NaN</td>\n",
       "    </tr>\n",
       "    <tr>\n",
       "      <th>1</th>\n",
       "      <td>NaN</td>\n",
       "    </tr>\n",
       "    <tr>\n",
       "      <th>2</th>\n",
       "      <td>Under Armur Made in Vietnam Size 414243 Price ...</td>\n",
       "    </tr>\n",
       "    <tr>\n",
       "      <th>3</th>\n",
       "      <td>NaN</td>\n",
       "    </tr>\n",
       "    <tr>\n",
       "      <th>4</th>\n",
       "      <td>NaN</td>\n",
       "    </tr>\n",
       "    <tr>\n",
       "      <th>5</th>\n",
       "      <td>NaN</td>\n",
       "    </tr>\n",
       "    <tr>\n",
       "      <th>6</th>\n",
       "      <td>NaN</td>\n",
       "    </tr>\n",
       "    <tr>\n",
       "      <th>7</th>\n",
       "      <td>NaN</td>\n",
       "    </tr>\n",
       "    <tr>\n",
       "      <th>8</th>\n",
       "      <td>NaN</td>\n",
       "    </tr>\n",
       "    <tr>\n",
       "      <th>9</th>\n",
       "      <td>NaN</td>\n",
       "    </tr>\n",
       "  </tbody>\n",
       "</table>\n",
       "</div>"
      ],
      "text/plain": [
       "                                        cleaned_text\n",
       "0                                                NaN\n",
       "1                                                NaN\n",
       "2  Under Armur Made in Vietnam Size 414243 Price ...\n",
       "3                                                NaN\n",
       "4                                                NaN\n",
       "5                                                NaN\n",
       "6                                                NaN\n",
       "7                                                NaN\n",
       "8                                                NaN\n",
       "9                                                NaN"
      ]
     },
     "execution_count": 6,
     "metadata": {},
     "output_type": "execute_result"
    }
   ],
   "source": [
    "filtered_df.head(10)"
   ]
  },
  {
   "cell_type": "code",
   "execution_count": 7,
   "metadata": {},
   "outputs": [],
   "source": [
    "filtered_df = filtered_df.dropna(subset=\"cleaned_text\")"
   ]
  },
  {
   "cell_type": "code",
   "execution_count": 8,
   "metadata": {},
   "outputs": [
    {
     "data": {
      "text/html": [
       "<div>\n",
       "<style scoped>\n",
       "    .dataframe tbody tr th:only-of-type {\n",
       "        vertical-align: middle;\n",
       "    }\n",
       "\n",
       "    .dataframe tbody tr th {\n",
       "        vertical-align: top;\n",
       "    }\n",
       "\n",
       "    .dataframe thead th {\n",
       "        text-align: right;\n",
       "    }\n",
       "</style>\n",
       "<table border=\"1\" class=\"dataframe\">\n",
       "  <thead>\n",
       "    <tr style=\"text-align: right;\">\n",
       "      <th></th>\n",
       "      <th>cleaned_text</th>\n",
       "    </tr>\n",
       "  </thead>\n",
       "  <tbody>\n",
       "    <tr>\n",
       "      <th>2</th>\n",
       "      <td>Under Armur Made in Vietnam Size 414243 Price ...</td>\n",
       "    </tr>\n",
       "    <tr>\n",
       "      <th>13</th>\n",
       "      <td>Made in Vietnam Size 4243 Price 3400 Free Deli...</td>\n",
       "    </tr>\n",
       "    <tr>\n",
       "      <th>15</th>\n",
       "      <td>NB Made in Vietnam Size 414243 Price 2900 Free...</td>\n",
       "    </tr>\n",
       "    <tr>\n",
       "      <th>19</th>\n",
       "      <td>High Quality shoes Size 4344 Price 3800 Free D...</td>\n",
       "    </tr>\n",
       "    <tr>\n",
       "      <th>21</th>\n",
       "      <td>Skechers Made in Vietnam Size 404243 Price 320...</td>\n",
       "    </tr>\n",
       "    <tr>\n",
       "      <th>24</th>\n",
       "      <td>Jordan low Made in Vietnam Size 40414243 Price...</td>\n",
       "    </tr>\n",
       "    <tr>\n",
       "      <th>27</th>\n",
       "      <td>Air force 1 High Quality Made in Vietnam Size ...</td>\n",
       "    </tr>\n",
       "    <tr>\n",
       "      <th>28</th>\n",
       "      <td>Men WATCH CLASICO Price 2200 No gift box Free ...</td>\n",
       "    </tr>\n",
       "    <tr>\n",
       "      <th>31</th>\n",
       "      <td>GOUPU Made in Vietnam Size 4042 Price 3500 Fre...</td>\n",
       "    </tr>\n",
       "    <tr>\n",
       "      <th>32</th>\n",
       "      <td>GOLDEN WATCH ROLEXCKGUCCICYBERCASENET No gift ...</td>\n",
       "    </tr>\n",
       "  </tbody>\n",
       "</table>\n",
       "</div>"
      ],
      "text/plain": [
       "                                         cleaned_text\n",
       "2   Under Armur Made in Vietnam Size 414243 Price ...\n",
       "13  Made in Vietnam Size 4243 Price 3400 Free Deli...\n",
       "15  NB Made in Vietnam Size 414243 Price 2900 Free...\n",
       "19  High Quality shoes Size 4344 Price 3800 Free D...\n",
       "21  Skechers Made in Vietnam Size 404243 Price 320...\n",
       "24  Jordan low Made in Vietnam Size 40414243 Price...\n",
       "27  Air force 1 High Quality Made in Vietnam Size ...\n",
       "28  Men WATCH CLASICO Price 2200 No gift box Free ...\n",
       "31  GOUPU Made in Vietnam Size 4042 Price 3500 Fre...\n",
       "32  GOLDEN WATCH ROLEXCKGUCCICYBERCASENET No gift ..."
      ]
     },
     "execution_count": 8,
     "metadata": {},
     "output_type": "execute_result"
    }
   ],
   "source": [
    "filtered_df.head(10)"
   ]
  },
  {
   "cell_type": "code",
   "execution_count": 9,
   "metadata": {},
   "outputs": [],
   "source": [
    "\n",
    "def remove_english(text):\n",
    "    # This regex removes English alphabets, but keeps numbers and specific punctuation\n",
    "    return re.sub(r'[A-Za-z፦፤፥፦፧፨፩፪፫፬፭፮፯፰፱፲፳፴፵፶፷፸፹፺፻\\._]', '', text)\n"
   ]
  },
  {
   "cell_type": "code",
   "execution_count": 10,
   "metadata": {},
   "outputs": [],
   "source": [
    "\n",
    "filtered_df[\"cleaned_text\"] = filtered_df[\"cleaned_text\"].apply(remove_english)"
   ]
  },
  {
   "cell_type": "code",
   "execution_count": 11,
   "metadata": {},
   "outputs": [
    {
     "data": {
      "text/html": [
       "<div>\n",
       "<style scoped>\n",
       "    .dataframe tbody tr th:only-of-type {\n",
       "        vertical-align: middle;\n",
       "    }\n",
       "\n",
       "    .dataframe tbody tr th {\n",
       "        vertical-align: top;\n",
       "    }\n",
       "\n",
       "    .dataframe thead th {\n",
       "        text-align: right;\n",
       "    }\n",
       "</style>\n",
       "<table border=\"1\" class=\"dataframe\">\n",
       "  <thead>\n",
       "    <tr style=\"text-align: right;\">\n",
       "      <th></th>\n",
       "      <th>cleaned_text</th>\n",
       "    </tr>\n",
       "  </thead>\n",
       "  <tbody>\n",
       "    <tr>\n",
       "      <th>2</th>\n",
       "      <td>414243  3500    5266 ስልክ 251945355266 ፋሽ...</td>\n",
       "    </tr>\n",
       "    <tr>\n",
       "      <th>13</th>\n",
       "      <td>4243  3400    5266 ስልክ 251945355266 ፋሽን ተራ...</td>\n",
       "    </tr>\n",
       "    <tr>\n",
       "      <th>15</th>\n",
       "      <td>414243  2900    5266 ስልክ 251945355266 ፋሽን...</td>\n",
       "    </tr>\n",
       "    <tr>\n",
       "      <th>19</th>\n",
       "      <td>4344  3800    5266 ስልክ 251945355266 ፋሽን ተራ...</td>\n",
       "    </tr>\n",
       "    <tr>\n",
       "      <th>21</th>\n",
       "      <td>404243  3200    5266 ስልክ 251945355266 ፋሽን...</td>\n",
       "    </tr>\n",
       "  </tbody>\n",
       "</table>\n",
       "</div>"
      ],
      "text/plain": [
       "                                         cleaned_text\n",
       "2         414243  3500    5266 ስልክ 251945355266 ፋሽ...\n",
       "13      4243  3400    5266 ስልክ 251945355266 ፋሽን ተራ...\n",
       "15       414243  2900    5266 ስልክ 251945355266 ፋሽን...\n",
       "19      4344  3800    5266 ስልክ 251945355266 ፋሽን ተራ...\n",
       "21       404243  3200    5266 ስልክ 251945355266 ፋሽን..."
      ]
     },
     "execution_count": 11,
     "metadata": {},
     "output_type": "execute_result"
    }
   ],
   "source": [
    "filtered_df.head()"
   ]
  },
  {
   "cell_type": "code",
   "execution_count": 12,
   "metadata": {},
   "outputs": [],
   "source": [
    "\n",
    "\n",
    "filtered_df.to_csv(\"../data/Amharic_data.csv\", index=False, encoding='utf-8')"
   ]
  },
  {
   "cell_type": "code",
   "execution_count": 13,
   "metadata": {},
   "outputs": [
    {
     "data": {
      "text/plain": [
       "'      414243  3500    5266 ስልክ 251945355266 ፋሽን ተራ   አድራሻ አዲስ አበባ ጦር ሀይሎች ድሪም ታወር 2ተኛ ፎቅ ቢሮ ቁጥር 205'"
      ]
     },
     "execution_count": 13,
     "metadata": {},
     "output_type": "execute_result"
    }
   ],
   "source": [
    "filtered_df.iloc[0][\"cleaned_text\"]"
   ]
  },
  {
   "cell_type": "code",
   "execution_count": 14,
   "metadata": {},
   "outputs": [
    {
     "name": "stderr",
     "output_type": "stream",
     "text": [
      "c:\\Users\\Tsegaye\\AppData\\Local\\Programs\\Python\\Python313\\Lib\\site-packages\\amseg-2.3-py3.13.egg\\amseg\\amharicSegmenter.py:55: SyntaxWarning: invalid escape sequence '\\s'\n",
      "c:\\Users\\Tsegaye\\AppData\\Local\\Programs\\Python\\Python313\\Lib\\site-packages\\amseg-2.3-py3.13.egg\\amseg\\amharicSegmenter.py:79: SyntaxWarning: invalid escape sequence '\\s'\n",
      "c:\\Users\\Tsegaye\\AppData\\Local\\Programs\\Python\\Python313\\Lib\\site-packages\\amseg-2.3-py3.13.egg\\amseg\\amharicSegmenter.py:55: SyntaxWarning: invalid escape sequence '\\s'\n",
      "c:\\Users\\Tsegaye\\AppData\\Local\\Programs\\Python\\Python313\\Lib\\site-packages\\amseg-2.3-py3.13.egg\\amseg\\amharicSegmenter.py:79: SyntaxWarning: invalid escape sequence '\\s'\n",
      "c:\\Users\\Tsegaye\\AppData\\Local\\Programs\\Python\\Python313\\Lib\\site-packages\\amseg-2.3-py3.13.egg\\amseg\\amharicNormalizer.py:87: SyntaxWarning: invalid escape sequence '\\s'\n",
      "c:\\Users\\Tsegaye\\AppData\\Local\\Programs\\Python\\Python313\\Lib\\site-packages\\amseg-2.3-py3.13.egg\\amseg\\amharicNormalizer.py:87: SyntaxWarning: invalid escape sequence '\\s'\n"
     ]
    }
   ],
   "source": [
    "\n",
    "\n",
    "from amseg.amharicSegmenter import AmharicSegmenter\n"
   ]
  },
  {
   "cell_type": "code",
   "execution_count": null,
   "metadata": {},
   "outputs": [],
   "source": [
    "\n",
    "\n",
    "sent_punct = []\n",
    "word_punct = []\n",
    "segmenter = AmharicSegmenter(sent_punct, word_punct)\n",
    "\n",
    "# Define the function to tokenize Amharic text\n",
    "def tokenize_amharic(text):\n",
    "    words = segmenter.amharic_tokenizer(text)  # Tokenizing the text into words\n",
    "    return words  # Returning the tokenized words"
   ]
  },
  {
   "cell_type": "code",
   "execution_count": null,
   "metadata": {},
   "outputs": [
    {
     "name": "stdout",
     "output_type": "stream",
     "text": [
      "                                         cleaned_text  \\\n",
      "2         414243  3500    5266 ስልክ 251945355266 ፋሽ...   \n",
      "13      4243  3400    5266 ስልክ 251945355266 ፋሽን ተራ...   \n",
      "15       414243  2900    5266 ስልክ 251945355266 ፋሽን...   \n",
      "19      4344  3800    5266 ስልክ 251945355266 ፋሽን ተራ...   \n",
      "21       404243  3200    5266 ስልክ 251945355266 ፋሽን...   \n",
      "\n",
      "                                             tokenize  \n",
      "2   [414243, 3500, 5266, ስልክ, 251945355266, ፋሽን, ተ...  \n",
      "13  [4243, 3400, 5266, ስልክ, 251945355266, ፋሽን, ተራ,...  \n",
      "15  [414243, 2900, 5266, ስልክ, 251945355266, ፋሽን, ተ...  \n",
      "19  [4344, 3800, 5266, ስልክ, 251945355266, ፋሽን, ተራ,...  \n",
      "21  [404243, 3200, 5266, ስልክ, 251945355266, ፋሽን, ተ...  \n"
     ]
    }
   ],
   "source": [
    "\n",
    "\n",
    "# Apply the function to the 'cleaned_text' column to create a new 'tokenize' column\n",
    "filtered_df[\"tokenize\"] = filtered_df[\"cleaned_text\"].apply(tokenize_amharic)\n",
    "\n",
    "# Display the updated DataFrame\n",
    "print(filtered_df.head())"
   ]
  },
  {
   "cell_type": "code",
   "execution_count": null,
   "metadata": {},
   "outputs": [],
   "source": [
    "filtered_df.iloc[0][\"cleaned_text\"]"
   ]
  },
  {
   "cell_type": "code",
   "execution_count": 21,
   "metadata": {},
   "outputs": [],
   "source": [
    "filtered_df.to_csv(\"../data/tokenized_data.csv\")"
   ]
  },
  {
   "cell_type": "code",
   "execution_count": null,
   "metadata": {},
   "outputs": [],
   "source": []
  }
 ],
 "metadata": {
  "kernelspec": {
   "display_name": "Python 3",
   "language": "python",
   "name": "python3"
  },
  "language_info": {
   "codemirror_mode": {
    "name": "ipython",
    "version": 3
   },
   "file_extension": ".py",
   "mimetype": "text/x-python",
   "name": "python",
   "nbconvert_exporter": "python",
   "pygments_lexer": "ipython3",
   "version": "3.13.1"
  }
 },
 "nbformat": 4,
 "nbformat_minor": 2
}
